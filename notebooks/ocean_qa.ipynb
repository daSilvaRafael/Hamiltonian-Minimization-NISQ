{
 "cells": [
  {
   "cell_type": "markdown",
   "id": "fdd41136",
   "metadata": {},
   "source": [
    "## Content\n",
    "\n",
    "1. [Methods](#Methods)\n",
    "2. [Problem to QUBO](#Problem-to-QUBO)\n",
    "3. [Gate QUBO](#Gate-QUBO)\n",
    "4. [Exact solver](#Exact-solver)\n",
    "5. [Results 3 qubits](#Results-3-qubits)\n",
    "6. [Results 6 qubits](#Results-6-qubits)\n",
    "7. [Results 13 qubits](#Results-13-qubits)\n",
    "8. [Results 140 qubits on a Hybrid Solver](#Results-140-qubits-on-a-Hybrid-Solver)"
   ]
  },
  {
   "cell_type": "markdown",
   "id": "16d1b052",
   "metadata": {},
   "source": [
    "### Methods"
   ]
  },
  {
   "cell_type": "code",
   "execution_count": 1,
   "id": "2ce14e32",
   "metadata": {},
   "outputs": [],
   "source": [
    "import numpy as np\n",
    "from pyqubo import Binary as bit\n",
    "import dimod\n",
    "from dwave.system import DWaveSampler\n",
    "from dwave.system import EmbeddingComposite\n",
    "import dwave.inspector\n",
    "from dwave.system import LeapHybridSampler"
   ]
  },
  {
   "cell_type": "markdown",
   "id": "413d2427",
   "metadata": {},
   "source": [
    "### Problem to QUBO"
   ]
  },
  {
   "cell_type": "code",
   "execution_count": 4,
   "id": "55b13ad3",
   "metadata": {},
   "outputs": [],
   "source": [
    "p1, p2, p3 = 39.5, 3.6, 87.8\n",
    "N = 100"
   ]
  },
  {
   "cell_type": "code",
   "execution_count": 5,
   "id": "0ea36b17",
   "metadata": {},
   "outputs": [],
   "source": [
    "q1, q2, q3 = bit(\"q1\"), bit(\"q2\"), bit(\"q3\")"
   ]
  },
  {
   "cell_type": "code",
   "execution_count": 6,
   "id": "6d5149e8",
   "metadata": {},
   "outputs": [],
   "source": [
    "function = (- N + p1 * q1 + p2 * q2 +  p3 * q3)**2\n",
    "model = function.compile()"
   ]
  },
  {
   "cell_type": "code",
   "execution_count": 7,
   "id": "5034ae17",
   "metadata": {},
   "outputs": [
    {
     "data": {
      "text/plain": [
       "({('q1', 'q1'): -6339.75,\n",
       "  ('q3', 'q1'): 6936.2,\n",
       "  ('q2', 'q1'): 284.40000000000003,\n",
       "  ('q3', 'q3'): -9851.16,\n",
       "  ('q3', 'q2'): 632.16,\n",
       "  ('q2', 'q2'): -707.04},\n",
       " 10000.0)"
      ]
     },
     "execution_count": 7,
     "metadata": {},
     "output_type": "execute_result"
    }
   ],
   "source": [
    "L = model.to_qubo()\n",
    "L"
   ]
  },
  {
   "cell_type": "code",
   "execution_count": 8,
   "id": "32dac5e0",
   "metadata": {},
   "outputs": [],
   "source": [
    "a1, a2, a3 = L[0][('q1', 'q1')], L[0][('q2', 'q2')], L[0][('q3', 'q3')] \n",
    "b12, b13, b23 =  L[0][('q2', 'q1')], L[0][('q3', 'q1')], L[0][('q3', 'q2')]"
   ]
  },
  {
   "cell_type": "code",
   "execution_count": 9,
   "id": "33a83ea9",
   "metadata": {},
   "outputs": [
    {
     "data": {
      "text/plain": [
       "632.16"
      ]
     },
     "execution_count": 9,
     "metadata": {},
     "output_type": "execute_result"
    }
   ],
   "source": [
    "b23"
   ]
  },
  {
   "cell_type": "markdown",
   "id": "b7e07b35",
   "metadata": {},
   "source": [
    "### Exact solver"
   ]
  },
  {
   "cell_type": "markdown",
   "id": "d5735f5c",
   "metadata": {},
   "source": [
    "We can calculate all the $2^3$ possible solutions using the _ExactSolver_ method. Note that this method (solver) should be used for problems with a small number of variables."
   ]
  },
  {
   "cell_type": "code",
   "execution_count": 10,
   "id": "63d0ee4f",
   "metadata": {},
   "outputs": [],
   "source": [
    "ex_sampler = dimod.ExactSolver()\n",
    "qubo_sample_set = ex_sampler.sample_qubo(L[0])"
   ]
  },
  {
   "cell_type": "code",
   "execution_count": 11,
   "id": "dd42567f",
   "metadata": {},
   "outputs": [
    {
     "name": "stdout",
     "output_type": "stream",
     "text": [
      "  q1 q2 q3   energy num_oc.\n",
      "4  0  1  1 -9926.04       1\n",
      "3  0  0  1 -9851.16       1\n",
      "2  1  0  1 -9254.71       1\n",
      "5  1  1  1 -9045.19       1\n",
      "6  1  1  0 -6762.39       1\n",
      "1  1  0  0 -6339.75       1\n",
      "7  0  1  0  -707.04       1\n",
      "0  0  0  0      0.0       1\n",
      "['BINARY', 8 rows, 8 samples, 3 variables]\n"
     ]
    }
   ],
   "source": [
    "print(qubo_sample_set)"
   ]
  },
  {
   "cell_type": "markdown",
   "id": "82a28632",
   "metadata": {},
   "source": [
    "The solution is to allocate on asset $q_2$ and $q_3\\,.$ Alternative, we can set as a Binary Quadratic Model (BQM)."
   ]
  },
  {
   "cell_type": "code",
   "execution_count": 12,
   "id": "306de2ed",
   "metadata": {},
   "outputs": [
    {
     "name": "stdout",
     "output_type": "stream",
     "text": [
      "  q1 q2 q3  energy num_oc.\n",
      "6  0  1  1   73.96       1\n",
      "1  0  0  1  148.84       1\n",
      "2  1  0  1  745.29       1\n",
      "5  1  1  1  954.81       1\n",
      "4  1  1  0 3237.61       1\n",
      "3  1  0  0 3660.25       1\n",
      "7  0  1  0 9292.96       1\n",
      "0  0  0  0 10000.0       1\n",
      "['BINARY', 8 rows, 8 samples, 3 variables]\n"
     ]
    }
   ],
   "source": [
    "bqm = model.to_bqm()\n",
    "bqm_sample_set = ex_sampler.sample(bqm)\n",
    "print(bqm_sample_set)"
   ]
  },
  {
   "cell_type": "markdown",
   "id": "fa02c1d9",
   "metadata": {},
   "source": [
    "The optimal solution $q_1 = 0,\\, q_2 = 1,\\, q_3 = 1$ implies that $100 - 91.3 = 8.7$ EUR is not allocated.\n"
   ]
  },
  {
   "cell_type": "markdown",
   "id": "e4d5af9c",
   "metadata": {},
   "source": [
    "### Results 3 qubits"
   ]
  },
  {
   "cell_type": "markdown",
   "id": "940f4fda",
   "metadata": {},
   "source": [
    "Let's see the proprieties of a quantum annealer process with a _Pegasus_ topology. See __[Pegasus Graph](https://docs.dwavesys.com/docs/latest/c_gs_4.html#topology-intro-pegasus)__ for more information."
   ]
  },
  {
   "cell_type": "code",
   "execution_count": 13,
   "id": "98d3f9c0",
   "metadata": {},
   "outputs": [],
   "source": [
    "qpu_sampler = DWaveSampler(solver={'topology__type': 'pegasus'})"
   ]
  },
  {
   "cell_type": "code",
   "execution_count": 14,
   "id": "dac6310e",
   "metadata": {
    "scrolled": false
   },
   "outputs": [
    {
     "data": {
      "text/plain": [
       "['num_qubits',\n",
       " 'qubits',\n",
       " 'couplers',\n",
       " 'h_range',\n",
       " 'j_range',\n",
       " 'supported_problem_types',\n",
       " 'parameters',\n",
       " 'vfyc',\n",
       " 'anneal_offset_ranges',\n",
       " 'anneal_offset_step',\n",
       " 'anneal_offset_step_phi0',\n",
       " 'annealing_time_range',\n",
       " 'chip_id',\n",
       " 'default_annealing_time',\n",
       " 'default_programming_thermalization',\n",
       " 'default_readout_thermalization',\n",
       " 'extended_j_range',\n",
       " 'h_gain_schedule_range',\n",
       " 'max_anneal_schedule_points',\n",
       " 'max_h_gain_schedule_points',\n",
       " 'num_reads_range',\n",
       " 'per_qubit_coupling_range',\n",
       " 'problem_run_duration_range',\n",
       " 'problem_timing_data',\n",
       " 'programming_thermalization_range',\n",
       " 'readout_thermalization_range',\n",
       " 'tags',\n",
       " 'topology',\n",
       " 'category',\n",
       " 'quota_conversion_rate']"
      ]
     },
     "execution_count": 14,
     "metadata": {},
     "output_type": "execute_result"
    }
   ],
   "source": [
    "list(qpu_sampler.properties)"
   ]
  },
  {
   "cell_type": "code",
   "execution_count": 15,
   "id": "e8d6321e",
   "metadata": {},
   "outputs": [
    {
     "data": {
      "text/plain": [
       "'Advantage_system6.3'"
      ]
     },
     "execution_count": 15,
     "metadata": {},
     "output_type": "execute_result"
    }
   ],
   "source": [
    "qpu_sampler.properties['chip_id']"
   ]
  },
  {
   "cell_type": "code",
   "execution_count": 16,
   "id": "d920722e",
   "metadata": {},
   "outputs": [
    {
     "data": {
      "text/plain": [
       "5760"
      ]
     },
     "execution_count": 16,
     "metadata": {},
     "output_type": "execute_result"
    }
   ],
   "source": [
    "qpu_sampler.properties['num_qubits']"
   ]
  },
  {
   "cell_type": "markdown",
   "id": "59532b9c",
   "metadata": {},
   "source": [
    "This QPU (_Advantage_system6.2_) has $5760$ qubits, which is a significant improvement related to D-Waves 2000Q processor (_Chimera_ graph and $2048$ qubits). Note that the problem bias (linear) and coupling (quadratic) coefficients are rescaled to a range of allowed values. The problem is first converted to a Ising model then all coefficient are divided by\n",
    "\n",
    "$$\\max \\left\\{\\max \\left( \\frac{\\max (h)}{\\max (h\\_range)}, 0 \\right), \\max \\left( \\frac{\\min (h)}{\\min(h\\_range)}, 0 \\right), \\max \\left( \\frac{\\max(J)}{\\max(J\\_range)}, 0 \\right), \\max \\left( \\frac{\\min(J)}{\\min(J\\_range)}, 0 \\right) \\right\\}.$$\n",
    "\n",
    "See __[auto_scale](https://docs.dwavesys.com/docs/latest/c_solver_parameters.html#param-autoscale)__ D-Wave's documentation."
   ]
  },
  {
   "cell_type": "code",
   "execution_count": 17,
   "id": "946a6590",
   "metadata": {},
   "outputs": [
    {
     "data": {
      "text/plain": [
       "[-4.0, 4.0]"
      ]
     },
     "execution_count": 17,
     "metadata": {},
     "output_type": "execute_result"
    }
   ],
   "source": [
    "qpu_sampler.properties['h_range']"
   ]
  },
  {
   "cell_type": "code",
   "execution_count": 18,
   "id": "9a6ca08c",
   "metadata": {},
   "outputs": [
    {
     "data": {
      "text/plain": [
       "[-1.0, 1.0]"
      ]
     },
     "execution_count": 18,
     "metadata": {},
     "output_type": "execute_result"
    }
   ],
   "source": [
    "qpu_sampler.properties['j_range']"
   ]
  },
  {
   "cell_type": "markdown",
   "id": "715d87e6",
   "metadata": {},
   "source": [
    "The _default_annealing_time_ (microseconds $\\mu s$) for one read is of particular interest given the $1$ minute = $60,000,000$ $\\mu s$ available to run problems with a trial plan account type. "
   ]
  },
  {
   "cell_type": "code",
   "execution_count": 19,
   "id": "e2a67d57",
   "metadata": {},
   "outputs": [
    {
     "data": {
      "text/plain": [
       "20.0"
      ]
     },
     "execution_count": 19,
     "metadata": {},
     "output_type": "execute_result"
    }
   ],
   "source": [
    "qpu_sampler.properties[\"default_annealing_time\"]    "
   ]
  },
  {
   "cell_type": "markdown",
   "id": "2dd4d28f",
   "metadata": {},
   "source": [
    "See  __[Solver Properties](https://docs.dwavesys.com/docs/latest/c_solver_properties.html#)__ for more information. We can also see the possible input parameters when solving a problem."
   ]
  },
  {
   "cell_type": "code",
   "execution_count": 20,
   "id": "b17236c8",
   "metadata": {},
   "outputs": [
    {
     "data": {
      "text/plain": [
       "['anneal_offsets',\n",
       " 'anneal_schedule',\n",
       " 'annealing_time',\n",
       " 'answer_mode',\n",
       " 'auto_scale',\n",
       " 'flux_biases',\n",
       " 'flux_drift_compensation',\n",
       " 'h_gain_schedule',\n",
       " 'initial_state',\n",
       " 'max_answers',\n",
       " 'num_reads',\n",
       " 'programming_thermalization',\n",
       " 'readout_thermalization',\n",
       " 'reduce_intersample_correlation',\n",
       " 'reinitialize_state',\n",
       " 'warnings',\n",
       " 'label']"
      ]
     },
     "execution_count": 20,
     "metadata": {},
     "output_type": "execute_result"
    }
   ],
   "source": [
    "list(qpu_sampler.parameters.keys())"
   ]
  },
  {
   "cell_type": "markdown",
   "id": "63c18220",
   "metadata": {},
   "source": [
    "Run the problem without the need to embed the problem into the graph topology."
   ]
  },
  {
   "cell_type": "code",
   "execution_count": 21,
   "id": "9fb545d5",
   "metadata": {},
   "outputs": [],
   "source": [
    "pegasus_sampler = EmbeddingComposite(qpu_sampler)"
   ]
  },
  {
   "cell_type": "markdown",
   "id": "76cfd843",
   "metadata": {},
   "source": [
    "We will run $3$ times with a $3 \\mu s$ per read. Note that the default is $20 \\mu s\\,.$"
   ]
  },
  {
   "cell_type": "code",
   "execution_count": 22,
   "id": "c49a0c79",
   "metadata": {},
   "outputs": [],
   "source": [
    "sample_results = pegasus_sampler.sample(bqm, num_reads=3, annealing_time=3, label='qubo_3')"
   ]
  },
  {
   "cell_type": "code",
   "execution_count": 23,
   "id": "0b17aec4",
   "metadata": {},
   "outputs": [
    {
     "name": "stdout",
     "output_type": "stream",
     "text": [
      "  q1 q2 q3 energy num_oc. chain_.\n",
      "0  0  1  1  73.96       2     0.0\n",
      "1  0  0  1 148.84       1     0.0\n",
      "['BINARY', 2 rows, 3 samples, 3 variables]\n"
     ]
    }
   ],
   "source": [
    "print(sample_results)"
   ]
  },
  {
   "cell_type": "markdown",
   "id": "cae394a9",
   "metadata": {},
   "source": [
    "$2$ out of $3$ samples (reads) resulted in the optimal solution $q_1=0, q_2=1, q_3=1\\,.$ The _chain_ value is the percentage of chain breaks. In this toy example it is expected to be zero, since the _Pegasus_ topology can embed a 3-loop (triangle graph) without additional physical qubits per logical qubit.\n",
    "\n",
    "We can confirm the quantum annealing time and other information."
   ]
  },
  {
   "cell_type": "code",
   "execution_count": 24,
   "id": "a5ae4ba3",
   "metadata": {},
   "outputs": [
    {
     "data": {
      "text/plain": [
       "{'timing': {'qpu_sampling_time': 208.8,\n",
       "  'qpu_anneal_time_per_sample': 3.0,\n",
       "  'qpu_readout_time_per_sample': 46.06,\n",
       "  'qpu_access_time': 16137.97,\n",
       "  'qpu_access_overhead_time': 838.03,\n",
       "  'qpu_programming_time': 15929.17,\n",
       "  'qpu_delay_time_per_sample': 20.54,\n",
       "  'total_post_processing_time': 1679.0,\n",
       "  'post_processing_overhead_time': 1679.0},\n",
       " 'problem_id': 'e144dd9c-56c1-42fd-90d7-80a29d72a370',\n",
       " 'problem_label': 'qubo_3',\n",
       " 'embedding_context': {'embedding': {'q1': (5508,),\n",
       "   'q3': (5493,),\n",
       "   'q2': (584,)},\n",
       "  'chain_break_method': 'majority_vote',\n",
       "  'embedding_parameters': {},\n",
       "  'chain_strength': 2011.9788242097256},\n",
       " 'warnings': []}"
      ]
     },
     "execution_count": 24,
     "metadata": {},
     "output_type": "execute_result"
    }
   ],
   "source": [
    "sample_results.info"
   ]
  },
  {
   "cell_type": "markdown",
   "id": "3d6c745e",
   "metadata": {},
   "source": [
    "Use _dwave.inspector_  to visualize which qubits on the traged QPU where used to solve this problem. Note that _dwave.inspector.show_ is an interactive window connected to the server."
   ]
  },
  {
   "cell_type": "code",
   "execution_count": 25,
   "id": "cc9ebea0",
   "metadata": {
    "scrolled": false
   },
   "outputs": [
    {
     "data": {
      "text/html": [
       "<iframe src=http://127.0.0.1:18000/?problemId=e144dd9c-56c1-42fd-90d7-80a29d72a370 width=\"100%\" height=640></iframe>"
      ],
      "text/plain": [
       "Serving Inspector on http://127.0.0.1:18000/?problemId=e144dd9c-56c1-42fd-90d7-80a29d72a370"
      ]
     },
     "metadata": {},
     "output_type": "display_data"
    },
    {
     "data": {
      "text/plain": [
       "'http://127.0.0.1:18000/?problemId=e144dd9c-56c1-42fd-90d7-80a29d72a370'"
      ]
     },
     "execution_count": 25,
     "metadata": {},
     "output_type": "execute_result"
    }
   ],
   "source": [
    "dwave.inspector.show(sample_results)"
   ]
  },
  {
   "cell_type": "markdown",
   "id": "4d0bb98b",
   "metadata": {},
   "source": [
    "### Results 6 qubits"
   ]
  },
  {
   "cell_type": "code",
   "execution_count": 26,
   "id": "11abe3f0",
   "metadata": {},
   "outputs": [],
   "source": [
    "add_qubits = 3\n",
    "\n",
    "np.random.seed(0)\n",
    "\n",
    "qubits = [bit(\"q1\"), bit(\"q2\"), bit(\"q3\")]\n",
    "\n",
    "p1, p2, p3 = 39.5, 3.6, 87.8\n",
    "N = 100\n",
    "\n",
    "asset_prices = [p1, p2, p3]\n",
    "function = -N + p1 * qubits[0] + p2 * qubits[1] +  p3 * qubits[2]\n",
    "\n",
    "for i in range(add_qubits):\n",
    "    \n",
    "    delta = np.random.uniform(size=1)\n",
    "    price = 110 * (1 + delta[0]) \n",
    "    asset_prices.append(price)\n",
    "    \n",
    "    qubits.append(bit(f\"q{4 + i}\"))\n",
    "    \n",
    "    function += price * bit(f\"q{4 + i}\")\n",
    "    \n",
    "square_function = function**2"
   ]
  },
  {
   "cell_type": "code",
   "execution_count": 27,
   "id": "2751eee2",
   "metadata": {},
   "outputs": [
    {
     "data": {
      "text/plain": [
       "[39.5, 3.6, 87.8, 170.36948543200572, 188.67083030096614, 176.30397136788085]"
      ]
     },
     "execution_count": 27,
     "metadata": {},
     "output_type": "execute_result"
    }
   ],
   "source": [
    "asset_prices"
   ]
  },
  {
   "cell_type": "code",
   "execution_count": 28,
   "id": "f30a1b78",
   "metadata": {},
   "outputs": [
    {
     "data": {
      "text/plain": [
       "((176.303971 * Binary('q6')) + (188.670830 * Binary('q5')) + (170.369485 * Binary('q4')) + (87.800000 * Binary('q3')) + (3.600000 * Binary('q2')) + -100.000000 + (39.500000 * Binary('q1')))"
      ]
     },
     "execution_count": 28,
     "metadata": {},
     "output_type": "execute_result"
    }
   ],
   "source": [
    "function"
   ]
  },
  {
   "cell_type": "code",
   "execution_count": 29,
   "id": "24e7a245",
   "metadata": {},
   "outputs": [
    {
     "data": {
      "text/plain": [
       "BinaryQuadraticModel({'q5': -2137.4838537372634, 'q1': -6339.75, 'q6': -4177.703953489618, 'q4': -5048.135520034735, 'q2': -707.04, 'q3': -9851.16}, {('q1', 'q5'): 14904.995593776326, ('q6', 'q5'): 66526.83332667168, ('q6', 'q1'): 13928.013738062587, ('q4', 'q5'): 64287.504548809746, ('q4', 'q1'): 13459.189349128452, ('q4', 'q6'): 60073.63376312986, ('q2', 'q5'): 1358.4299781669563, ('q2', 'q1'): 284.40000000000003, ('q2', 'q6'): 1269.3885938487422, ('q2', 'q4'): 1226.6602951104412, ('q3', 'q5'): 33130.59780084965, ('q3', 'q1'): 6936.2, ('q3', 'q6'): 30958.977372199875, ('q3', 'q4'): 29916.881641860204, ('q3', 'q2'): 632.16}, 10000.0, 'BINARY')"
      ]
     },
     "execution_count": 29,
     "metadata": {},
     "output_type": "execute_result"
    }
   ],
   "source": [
    "model_6_qb = square_function.compile()\n",
    "bqm_6_qb = model_6_qb.to_bqm()\n",
    "bqm_6_qb"
   ]
  },
  {
   "cell_type": "code",
   "execution_count": 30,
   "id": "c141cf05",
   "metadata": {},
   "outputs": [],
   "source": [
    "nr = 10\n",
    "at = 20\n",
    "cs = 100000\n",
    "name = f\"qubo_{nr}_t{at}\"\n",
    "sample_results_6_qb = pegasus_sampler.sample(bqm_6_qb, num_reads=nr, annealing_time=at, chain_strength =cs,label=name)"
   ]
  },
  {
   "cell_type": "code",
   "execution_count": 31,
   "id": "324da4ce",
   "metadata": {},
   "outputs": [
    {
     "name": "stdout",
     "output_type": "stream",
     "text": [
      "  q1 q2 q3 q4 q5 q6       energy num_oc. chain_.\n",
      "0  0  1  1  0  0  0        73.96       1     0.0\n",
      "1  0  0  1  0  0  0       148.84       2     0.0\n",
      "2  1  0  1  0  0  0       745.29       1     0.0\n",
      "3  1  1  1  0  0  0       954.81       2     0.0\n",
      "4  0  0  0  1  0  0   4951.86448       1     0.0\n",
      "5  0  1  0  1  0  0  5471.484775       1     0.0\n",
      "6  1  0  0  1  0  0 12071.303829       1     0.0\n",
      "7  0  1  1  0  0  1 28124.622013       1     0.0\n",
      "['BINARY', 8 rows, 10 samples, 6 variables]\n"
     ]
    }
   ],
   "source": [
    "print(sample_results_6_qb)"
   ]
  },
  {
   "cell_type": "code",
   "execution_count": 32,
   "id": "d86e835c",
   "metadata": {
    "scrolled": true
   },
   "outputs": [
    {
     "data": {
      "text/plain": [
       "SampleSet(rec.array([([0, 1, 1, 0, 0, 0],    73.96      , 1, 0.),\n",
       "           ([0, 0, 1, 0, 0, 0],   148.84      , 2, 0.),\n",
       "           ([1, 0, 1, 0, 0, 0],   745.29      , 1, 0.),\n",
       "           ([1, 1, 1, 0, 0, 0],   954.81      , 2, 0.),\n",
       "           ([0, 0, 0, 1, 0, 0],  4951.86447997, 1, 0.),\n",
       "           ([0, 1, 0, 1, 0, 0],  5471.48477508, 1, 0.),\n",
       "           ([1, 0, 0, 1, 0, 0], 12071.30382909, 1, 0.),\n",
       "           ([0, 1, 1, 0, 0, 1], 28124.62201256, 1, 0.)],\n",
       "          dtype=[('sample', 'i1', (6,)), ('energy', '<f8'), ('num_occurrences', '<i4'), ('chain_break_fraction', '<f8')]), Variables(['q1', 'q2', 'q3', 'q4', 'q5', 'q6']), {'timing': {'qpu_sampling_time': 958.6, 'qpu_anneal_time_per_sample': 20.0, 'qpu_readout_time_per_sample': 55.32, 'qpu_access_time': 16887.77, 'qpu_access_overhead_time': 341.23, 'qpu_programming_time': 15929.17, 'qpu_delay_time_per_sample': 20.54, 'total_post_processing_time': 1692.0, 'post_processing_overhead_time': 1692.0}, 'problem_id': '8c0a7da0-f001-4ddd-8800-ab6a6dfa68d3', 'problem_label': 'qubo_10_t20', 'embedding_context': {'embedding': {'q1': (2749,), 'q5': (2689, 3764), 'q6': (3749,), 'q4': (2734,), 'q2': (2674, 3809), 'q3': (3734,)}, 'chain_break_method': 'majority_vote', 'embedding_parameters': {}, 'chain_strength': 100000}, 'warnings': []}, 'BINARY')"
      ]
     },
     "execution_count": 32,
     "metadata": {},
     "output_type": "execute_result"
    }
   ],
   "source": [
    "sample_results_6_qb"
   ]
  },
  {
   "cell_type": "code",
   "execution_count": 33,
   "id": "5cfa2295",
   "metadata": {
    "scrolled": true
   },
   "outputs": [
    {
     "data": {
      "text/plain": [
       "{'timing': {'qpu_sampling_time': 958.6,\n",
       "  'qpu_anneal_time_per_sample': 20.0,\n",
       "  'qpu_readout_time_per_sample': 55.32,\n",
       "  'qpu_access_time': 16887.77,\n",
       "  'qpu_access_overhead_time': 341.23,\n",
       "  'qpu_programming_time': 15929.17,\n",
       "  'qpu_delay_time_per_sample': 20.54,\n",
       "  'total_post_processing_time': 1692.0,\n",
       "  'post_processing_overhead_time': 1692.0},\n",
       " 'problem_id': '8c0a7da0-f001-4ddd-8800-ab6a6dfa68d3',\n",
       " 'problem_label': 'qubo_10_t20',\n",
       " 'embedding_context': {'embedding': {'q1': (2749,),\n",
       "   'q5': (2689, 3764),\n",
       "   'q6': (3749,),\n",
       "   'q4': (2734,),\n",
       "   'q2': (2674, 3809),\n",
       "   'q3': (3734,)},\n",
       "  'chain_break_method': 'majority_vote',\n",
       "  'embedding_parameters': {},\n",
       "  'chain_strength': 100000},\n",
       " 'warnings': []}"
      ]
     },
     "execution_count": 33,
     "metadata": {},
     "output_type": "execute_result"
    }
   ],
   "source": [
    "sample_results_6_qb.info"
   ]
  },
  {
   "cell_type": "code",
   "execution_count": 34,
   "id": "181c78d4",
   "metadata": {
    "scrolled": false
   },
   "outputs": [
    {
     "data": {
      "text/html": [
       "<iframe src=http://127.0.0.1:18000/?problemId=8c0a7da0-f001-4ddd-8800-ab6a6dfa68d3 width=\"100%\" height=640></iframe>"
      ],
      "text/plain": [
       "Serving Inspector on http://127.0.0.1:18000/?problemId=8c0a7da0-f001-4ddd-8800-ab6a6dfa68d3"
      ]
     },
     "metadata": {},
     "output_type": "display_data"
    },
    {
     "data": {
      "text/plain": [
       "'http://127.0.0.1:18000/?problemId=8c0a7da0-f001-4ddd-8800-ab6a6dfa68d3'"
      ]
     },
     "execution_count": 34,
     "metadata": {},
     "output_type": "execute_result"
    }
   ],
   "source": [
    "dwave.inspector.show(sample_results_6_qb)"
   ]
  },
  {
   "cell_type": "markdown",
   "id": "e29117ba",
   "metadata": {},
   "source": [
    "### Results 13 qubits"
   ]
  },
  {
   "cell_type": "code",
   "execution_count": 35,
   "id": "d9f49e61",
   "metadata": {},
   "outputs": [],
   "source": [
    "add_qubits = 10\n",
    "\n",
    "np.random.seed(1)\n",
    "\n",
    "qubits = [bit(\"q1\"), bit(\"q2\"), bit(\"q3\")]\n",
    "\n",
    "p1, p2, p3 = 39.5, 3.6, 87.8\n",
    "N = 100\n",
    "\n",
    "asset_prices = [p1, p2, p3]\n",
    "function = -N + p1 * qubits[0] + p2 * qubits[1] +  p3 * qubits[2]\n",
    "\n",
    "for i in range(add_qubits):\n",
    "    \n",
    "    delta = np.random.uniform(size=1)\n",
    "    price = 110 * (1 + delta[0]) \n",
    "    asset_prices.append(price)\n",
    "    \n",
    "    qubits.append(bit(f\"q{4 + i}\"))\n",
    "    \n",
    "    function += price * bit(f\"q{4 + i}\")\n",
    "    \n",
    "square_function = function**2"
   ]
  },
  {
   "cell_type": "code",
   "execution_count": 36,
   "id": "16588e1b",
   "metadata": {
    "scrolled": true
   },
   "outputs": [
    {
     "data": {
      "text/plain": [
       "[39.5,\n",
       " 3.6,\n",
       " 87.8,\n",
       " 155.87242051728316,\n",
       " 189.23569427863737,\n",
       " 110.01258122990794,\n",
       " 143.25658298950236,\n",
       " 126.14314798988245,\n",
       " 120.15724542456776,\n",
       " 130.4886232515438,\n",
       " 148.01167997473527,\n",
       " 153.6444221653737,\n",
       " 169.26984074036926]"
      ]
     },
     "execution_count": 36,
     "metadata": {},
     "output_type": "execute_result"
    }
   ],
   "source": [
    "asset_prices"
   ]
  },
  {
   "cell_type": "code",
   "execution_count": 37,
   "id": "a60adb63",
   "metadata": {},
   "outputs": [
    {
     "data": {
      "text/plain": [
       "((169.269841 * Binary('q13')) + (153.644422 * Binary('q12')) + (148.011680 * Binary('q11')) + (130.488623 * Binary('q10')) + (120.157245 * Binary('q9')) + (126.143148 * Binary('q8')) + (143.256583 * Binary('q7')) + (110.012581 * Binary('q6')) + (189.235694 * Binary('q5')) + (155.872421 * Binary('q4')) + (87.800000 * Binary('q3')) + (3.600000 * Binary('q2')) + -100.000000 + (39.500000 * Binary('q1')))"
      ]
     },
     "execution_count": 37,
     "metadata": {},
     "output_type": "execute_result"
    }
   ],
   "source": [
    "function"
   ]
  },
  {
   "cell_type": "code",
   "execution_count": 38,
   "id": "99f66b65",
   "metadata": {},
   "outputs": [
    {
     "data": {
      "text/plain": [
       "BinaryQuadraticModel({'q7': -8128.868028072295, 'q5': -2036.9908666095725, 'q12': -7122.27597054316, 'q6': -9899.748217114495, 'q1': -6339.75, 'q4': -6878.272625539874, 'q2': -707.04, 'q3': -9851.16, 'q13': -5201.689163803876, 'q8': -9316.535813179105, 'q11': -7694.878586003604, 'q10': -9070.44385222542, 'q9': -9593.68545689374}, {('q5', 'q7'): 54218.51788400742, ('q12', 'q7'): 44021.149829615984, ('q12', 'q5'): 58150.017801009104, ('q6', 'q7'): 31520.05294570335, ('q6', 'q5'): 41636.614376853235, ('q6', 'q12'): 33805.638947980886, ('q1', 'q7'): 11317.270056170686, ('q1', 'q5'): 14949.619848012351, ('q1', 'q12'): 12137.909351064522, ('q1', 'q6'): 8690.993917162727, ('q4', 'q7'): 44659.500691217574, ('q4', 'q5'): 58993.2514309596, ('q4', 'q12'): 47897.85596379222, ('q4', 'q6'): 34295.85464731997, ('q4', 'q1'): 12313.92122086537, ('q2', 'q7'): 1031.447397524417, ('q2', 'q5'): 1362.4969988061891, ('q2', 'q12'): 1106.2398395906907, ('q2', 'q6'): 792.0905848553372, ('q2', 'q1'): 284.40000000000003, ('q2', 'q4'): 1122.2814277244388, ('q3', 'q7'): 25155.855972956615, ('q3', 'q5'): 33229.78791532872, ('q3', 'q12'): 26979.96053223962, ('q3', 'q6'): 19318.209263971832, ('q3', 'q1'): 6936.2, ('q3', 'q4'): 27371.197042834923, ('q3', 'q2'): 632.16, ('q13', 'q7'): 48498.037975285115, ('q13', 'q5'): 64063.791665876306, ('q13', 'q12'): 52014.73374115773, ('q13', 'q6'): 37243.624208446905, ('q13', 'q1'): 13372.317418489172, ('q13', 'q4'): 52768.99959355278, ('q13', 'q2'): 1218.7428533306588, ('q13', 'q3'): 29723.78403400884, ('q8', 'q7'): 36141.672697139344, ('q8', 'q5'): 47741.57237671661, ('q8', 'q12'): 38762.38216605342, ('q8', 'q6'): 27754.66662966648, ('q8', 'q1'): 9965.308691200713, ('q8', 'q4'): 39324.47561770568, ('q8', 'q2'): 908.2306655271536, ('q8', 'q3'): 22150.736787023357, ('q8', 'q13'): 42704.461141472464, ('q11', 'q7'): 42407.29503143266, ('q11', 'q5'): 56018.18604273303, ('q11', 'q12'): 45482.33808688883, ('q11', 'q6'): 32566.293932391403, ('q11', 'q1'): 11692.922718004087, ('q11', 'q4'): 46141.87764498295, ('q11', 'q2'): 1065.684095818094, ('q11', 'q3'): 25990.85100356351, ('q11', 'q13'): 50107.826994075884, ('q11', 'q8'): 37341.318502568305, ('q10', 'q7'): 37386.70857204138, ('q10', 'q5'): 49386.21043293887, ('q10', 'q12'): 40097.69823727719, ('q10', 'q6'): 28710.78053007863, ('q10', 'q1'): 10308.60123687196, ('q10', 'q4'): 40679.15511237193, ('q10', 'q2'): 939.5180874111154, ('q10', 'q3'): 22913.80224297109, ('q10', 'q13'): 44175.57695243773, ('q10', 'q8'): 32920.49142763101, ('q10', 'q11'): 38627.6806901026, ('q9', 'q7'): 34426.63280190919, ('q9', 'q5'): 45476.079521053405, ('q9', 'q12'): 36922.98108448141, ('q9', 'q6'): 26437.61744526449, ('q9', 'q1'): 9492.422388540854, ('q9', 'q4'): 37458.401374033245, ('q9', 'q2'): 865.1321670568879, ('q9', 'q3'): 21099.6122965541, ('q9', 'q13'): 40677.99559363609, ('q9', 'q8'): 30314.026383295753, ('q9', 'q11'): 35569.3515128537, ('q9', 'q10'): 31358.307058299415}, 10000.0, 'BINARY')"
      ]
     },
     "execution_count": 38,
     "metadata": {},
     "output_type": "execute_result"
    }
   ],
   "source": [
    "model_13_qb = square_function.compile()\n",
    "bqm_13_qb = model_13_qb.to_bqm()\n",
    "bqm_13_qb"
   ]
  },
  {
   "cell_type": "code",
   "execution_count": 39,
   "id": "ecc22155",
   "metadata": {},
   "outputs": [],
   "source": [
    "nr = 20\n",
    "at = 20\n",
    "cs = 100000\n",
    "name = f\"qubo_{nr}_t{at}\"\n",
    "sample_results_13_qb = pegasus_sampler.sample(bqm_13_qb, num_reads=nr, annealing_time=at, chain_strength =cs,label=name)"
   ]
  },
  {
   "cell_type": "code",
   "execution_count": 40,
   "id": "dc006c75",
   "metadata": {},
   "outputs": [
    {
     "name": "stdout",
     "output_type": "stream",
     "text": [
      "   q1 q10 q11 q12 q13 q2 q3 q4 q5 q6 q7 q8 q9        energy num_oc. chain_.\n",
      "0   0   0   0   0   0  1  0  0  0  1  0  0  0    185.302368       1     0.0\n",
      "1   0   0   0   0   0  0  0  0  0  0  0  1  0    683.464187       2     0.0\n",
      "2   0   0   0   0   0  1  0  0  0  0  0  1  0    884.654852       1     0.0\n",
      "3   1   0   0   0   0  0  0  0  0  0  0  0  1   3558.986932       1     0.0\n",
      "4   1   0   1   0   0  1  0  0  0  0  0  0  0   8301.338228       1     0.0\n",
      "5   0   0   0   0   0  0  1  0  0  1  0  0  0   9567.301047       1     0.0\n",
      "6   0   0   0   0   0  1  1  0  0  1  0  0  0  10284.511632       1     0.0\n",
      "7   0   0   0   0   0  1  1  0  0  0  0  0  1  12445.019007       1     0.0\n",
      "8   0   0   0   0   0  0  1  0  0  0  0  1  0  12983.040974       1     0.0\n",
      "9   0   0   0   0   0  1  1  0  0  0  0  1  0  13816.391639       1     0.0\n",
      "10  0   1   0   0   0  0  1  0  0  0  0  0  0  13992.198391       1     0.0\n",
      "11  0   0   0   0   0  0  0  0  0  1  0  1  0  18538.382599       2     0.0\n",
      "12  0   1   0   0   0  0  0  0  0  0  0  1  0  24533.511762       1     0.0\n",
      "13  0   1   0   0   0  1  0  0  0  0  0  1  0  25674.220515       1     0.0\n",
      "14  1   1   0   0   0  1  1  0  0  0  0  0  0  26046.287715       1     0.0\n",
      "15  0   0   1   0   0  0  0  0  0  0  0  0  1   28280.78747       1     0.0\n",
      "16  0   0   0   0   0  0  0  1  0  0  0  1  0  33129.667179       1     0.0\n",
      "17  0   0   0   0   0  0  0  1  0  0  1  1  0 105801.972539       1     0.0\n",
      "['BINARY', 18 rows, 20 samples, 13 variables]\n"
     ]
    }
   ],
   "source": [
    "print(sample_results_13_qb)"
   ]
  },
  {
   "cell_type": "code",
   "execution_count": 41,
   "id": "e17c17c3",
   "metadata": {},
   "outputs": [
    {
     "data": {
      "text/plain": [
       "SampleSet(rec.array([([0, 0, 0, 0, 0, 1, 0, 0, 0, 1, 0, 0, 0],    185.30236774, 1, 0.),\n",
       "           ([0, 0, 0, 0, 0, 0, 0, 0, 0, 0, 0, 1, 0],    683.46418682, 2, 0.),\n",
       "           ([0, 0, 0, 0, 0, 1, 0, 0, 0, 0, 0, 1, 0],    884.65485235, 1, 0.),\n",
       "           ([1, 0, 0, 0, 0, 0, 0, 0, 0, 0, 0, 0, 1],   3558.98693165, 1, 0.),\n",
       "           ([1, 0, 1, 0, 0, 1, 0, 0, 0, 0, 0, 0, 0],   8301.33822782, 1, 0.),\n",
       "           ([0, 0, 0, 0, 0, 0, 1, 0, 0, 1, 0, 0, 0],   9567.30104686, 1, 0.),\n",
       "           ([0, 0, 0, 0, 0, 1, 1, 0, 0, 1, 0, 0, 0],  10284.51163171, 1, 0.),\n",
       "           ([0, 0, 0, 0, 0, 1, 1, 0, 0, 0, 0, 0, 1],  12445.01900672, 1, 0.),\n",
       "           ([0, 0, 0, 0, 0, 0, 1, 0, 0, 0, 0, 1, 0],  12983.04097384, 1, 0.),\n",
       "           ([0, 0, 0, 0, 0, 1, 1, 0, 0, 0, 0, 1, 0],  13816.39163937, 1, 0.),\n",
       "           ([0, 1, 0, 0, 0, 0, 1, 0, 0, 0, 0, 0, 0],  13992.19839075, 1, 0.),\n",
       "           ([0, 0, 0, 0, 0, 0, 0, 0, 0, 1, 0, 1, 0],  18538.38259937, 2, 0.),\n",
       "           ([0, 1, 0, 0, 0, 0, 0, 0, 0, 0, 0, 1, 0],  24533.51176223, 1, 0.),\n",
       "           ([0, 1, 0, 0, 0, 1, 0, 0, 0, 0, 0, 1, 0],  25674.22051516, 1, 0.),\n",
       "           ([1, 1, 0, 0, 0, 1, 1, 0, 0, 0, 0, 0, 0],  26046.28771503, 1, 0.),\n",
       "           ([0, 0, 1, 0, 0, 0, 0, 0, 0, 0, 0, 0, 1],  28280.78746996, 1, 0.),\n",
       "           ([0, 0, 0, 0, 0, 0, 0, 1, 0, 0, 0, 1, 0],  33129.66717899, 1, 0.),\n",
       "           ([0, 0, 0, 0, 0, 0, 0, 1, 0, 0, 1, 1, 0], 105801.97253927, 1, 0.)],\n",
       "          dtype=[('sample', 'i1', (13,)), ('energy', '<f8'), ('num_occurrences', '<i4'), ('chain_break_fraction', '<f8')]), Variables(['q1', 'q10', 'q11', 'q12', 'q13', 'q2', 'q3', 'q4', 'q5', 'q6', 'q7', 'q8', 'q9']), {'timing': {'qpu_sampling_time': 1957.2, 'qpu_anneal_time_per_sample': 20.0, 'qpu_readout_time_per_sample': 57.32, 'qpu_access_time': 17885.57, 'qpu_access_overhead_time': 827.43, 'qpu_programming_time': 15928.37, 'qpu_delay_time_per_sample': 20.54, 'total_post_processing_time': 96.0, 'post_processing_overhead_time': 96.0}, 'problem_id': '544d84e6-d4f3-43b2-9ad9-3b3e56daac31', 'problem_label': 'qubo_20_t20', 'embedding_context': {'embedding': {'q5': (5236, 297), 'q7': (5161, 372, 373), 'q12': (327, 5146), 'q6': (5296, 5297), 'q1': (357,), 'q4': (5282, 5281), 'q2': (282, 5251), 'q3': (312, 5131), 'q13': (447, 5266), 'q8': (387, 5176, 388), 'q11': (342,), 'q10': (5221, 432), 'q9': (267, 5205, 5206)}, 'chain_break_method': 'majority_vote', 'embedding_parameters': {}, 'chain_strength': 100000}, 'warnings': []}, 'BINARY')"
      ]
     },
     "execution_count": 41,
     "metadata": {},
     "output_type": "execute_result"
    }
   ],
   "source": [
    "sample_results_13_qb"
   ]
  },
  {
   "cell_type": "code",
   "execution_count": 60,
   "metadata": {},
   "outputs": [
    {
     "data": {
      "text/plain": [
       "4"
      ]
     },
     "execution_count": 60,
     "metadata": {},
     "output_type": "execute_result"
    }
   ],
   "source": [
    "round(3.5)"
   ]
  },
  {
   "cell_type": "code",
   "execution_count": 42,
   "id": "824d82cd",
   "metadata": {},
   "outputs": [
    {
     "data": {
      "text/plain": [
       "{'timing': {'qpu_sampling_time': 1957.2,\n",
       "  'qpu_anneal_time_per_sample': 20.0,\n",
       "  'qpu_readout_time_per_sample': 57.32,\n",
       "  'qpu_access_time': 17885.57,\n",
       "  'qpu_access_overhead_time': 827.43,\n",
       "  'qpu_programming_time': 15928.37,\n",
       "  'qpu_delay_time_per_sample': 20.54,\n",
       "  'total_post_processing_time': 96.0,\n",
       "  'post_processing_overhead_time': 96.0},\n",
       " 'problem_id': '544d84e6-d4f3-43b2-9ad9-3b3e56daac31',\n",
       " 'problem_label': 'qubo_20_t20',\n",
       " 'embedding_context': {'embedding': {'q5': (5236, 297),\n",
       "   'q7': (5161, 372, 373),\n",
       "   'q12': (327, 5146),\n",
       "   'q6': (5296, 5297),\n",
       "   'q1': (357,),\n",
       "   'q4': (5282, 5281),\n",
       "   'q2': (282, 5251),\n",
       "   'q3': (312, 5131),\n",
       "   'q13': (447, 5266),\n",
       "   'q8': (387, 5176, 388),\n",
       "   'q11': (342,),\n",
       "   'q10': (5221, 432),\n",
       "   'q9': (267, 5205, 5206)},\n",
       "  'chain_break_method': 'majority_vote',\n",
       "  'embedding_parameters': {},\n",
       "  'chain_strength': 100000},\n",
       " 'warnings': []}"
      ]
     },
     "execution_count": 42,
     "metadata": {},
     "output_type": "execute_result"
    }
   ],
   "source": [
    "sample_results_13_qb.info"
   ]
  },
  {
   "cell_type": "code",
   "execution_count": 43,
   "id": "bc76cb18",
   "metadata": {},
   "outputs": [
    {
     "data": {
      "text/html": [
       "<iframe src=http://127.0.0.1:18000/?problemId=544d84e6-d4f3-43b2-9ad9-3b3e56daac31 width=\"100%\" height=640></iframe>"
      ],
      "text/plain": [
       "Serving Inspector on http://127.0.0.1:18000/?problemId=544d84e6-d4f3-43b2-9ad9-3b3e56daac31"
      ]
     },
     "metadata": {},
     "output_type": "display_data"
    },
    {
     "data": {
      "text/plain": [
       "'http://127.0.0.1:18000/?problemId=544d84e6-d4f3-43b2-9ad9-3b3e56daac31'"
      ]
     },
     "execution_count": 43,
     "metadata": {},
     "output_type": "execute_result"
    }
   ],
   "source": [
    "dwave.inspector.show(sample_results_13_qb)"
   ]
  },
  {
   "cell_type": "markdown",
   "id": "0f36a7fe",
   "metadata": {},
   "source": [
    "### Results 140 qubits on a Hybrid Solver"
   ]
  },
  {
   "cell_type": "code",
   "execution_count": 44,
   "id": "d0a973ae",
   "metadata": {},
   "outputs": [],
   "source": [
    "add_qubits = 137\n",
    "\n",
    "np.random.seed(1)\n",
    "\n",
    "qubits = [bit(\"q1\"), bit(\"q2\"), bit(\"q3\")]\n",
    "\n",
    "p1, p2, p3 = 39.5, 3.6, 87.8\n",
    "N = 100\n",
    "\n",
    "asset_prices = [p1, p2, p3]\n",
    "function = -N + p1 * qubits[0] + p2 * qubits[1] +  p3 * qubits[2]\n",
    "\n",
    "for i in range(add_qubits):\n",
    "    \n",
    "    delta = np.random.uniform(size=1)\n",
    "    price = 110 * (1 + delta[0]) \n",
    "    asset_prices.append(price)\n",
    "    \n",
    "    qubits.append(bit(f\"q{4 + i}\"))\n",
    "    \n",
    "    function += price * bit(f\"q{4 + i}\")\n",
    "    \n",
    "square_function = function**2"
   ]
  },
  {
   "cell_type": "code",
   "execution_count": 58,
   "id": "17fa31e7",
   "metadata": {
    "scrolled": true
   },
   "outputs": [
    {
     "name": "stdout",
     "output_type": "stream",
     "text": [
      "[39.5, 3.6, 87.8, 155.87242051728316, 189.23569427863737, 110.01258122990794, 143.25658298950236, 126.14314798988245, 120.15724542456776, 130.4886232515438, 148.01167997473527, 153.6444221653737, 169.26984074036926, 156.1113965843624, 185.37414504364355, 132.48974747046694, 206.592918003004, 113.01263525177188, 183.75142611962423, 155.90352826038398, 171.4558811290327, 125.44256324547572, 131.79116379933666, 198.08190255430904, 216.50877332913373, 144.47665959751671, 186.15548772362456, 206.4028067525642, 208.40673298542322, 119.35486325067558, 114.29602615561704, 128.6813461521026, 206.59567537723547, 120.8181517216355, 156.32183875055574, 215.3678483165552, 168.64818134703188, 186.10648253455207, 144.70671941066692, 185.5151020449742, 201.80882390871102, 112.01171050786108, 192.51587464394643, 218.77471977971442, 192.29822198178232, 140.84883912708457, 196.82072612966374, 121.35486072354063, 159.26828787934957, 209.94550534024052, 142.29755632110474, 141.65528724449834, 124.30314293301055, 112.13036536573267, 184.671908623388, 133.2790927600065, 139.2101325309449, 164.0730475208372, 115.86987996287883, 173.15293660412146, 126.1401432396391, 174.82360905936127, 186.97341960230244, 121.25678717106084, 155.5461586601525, 186.38401735005195, 155.5597196479593, 115.4948804840696, 168.94860465070627, 183.01741097417678, 166.63780232641395, 213.9054231589895, 174.52105445521923, 209.37421068166717, 125.12221745608612, 125.32039819758344, 198.81304175804763, 153.7444520684087, 128.1889616828626, 212.02594384356374, 148.25424457200575, 192.5893313449771, 189.85977838854967, 207.16367003263906, 178.60394277611698, 192.6036677430071, 148.3788176175627, 139.69206809415286, 208.54748400156737, 157.09003088584245, 216.13240518632242, 182.9785647600293, 178.3865292230034, 122.62205702487128, 214.44381845777784, 159.49033468279345, 173.62285758258452, 154.89504830374094, 136.07296782673305, 209.37174726184793, 173.10474353395145, 110.3157359734275, 177.88594049827964, 145.93093919493057, 167.97639124833702, 207.4536309241852, 149.29967360027496, 209.93886660117792, 178.5696127370983, 111.7403367131212, 212.23809571181374, 185.99866092686165, 219.70551354966284, 128.95745591798615, 125.08493245917657, 212.585500934088, 186.64999776388902, 117.26001899942688, 193.1009357862713, 192.9263807307371, 211.53269891011317, 188.2677234491319, 123.66980581693812, 112.18681472237752, 112.88320855654914, 113.11371368228741, 137.08321743633505, 204.60307435511766, 169.27141707758182, 170.81041765543426, 202.62339815955661, 123.65906466319022, 140.71020469122536, 174.43351986041165, 216.6555323151642, 171.7133241181281, 112.05120183102373, 198.0695939948678, 135.62717012251227, 198.7815715180657]\n"
     ]
    }
   ],
   "source": [
    "print(asset_prices)"
   ]
  },
  {
   "cell_type": "code",
   "execution_count": 56,
   "id": "2a6a1938",
   "metadata": {},
   "outputs": [],
   "source": [
    "model_102_qb = square_function.compile()\n",
    "bqm_102_qb = model_102_qb.to_bqm()"
   ]
  },
  {
   "cell_type": "code",
   "execution_count": 48,
   "id": "0b35a807",
   "metadata": {},
   "outputs": [],
   "source": [
    "hb_sampler = LeapHybridSampler(solver={'category': 'hybrid'})"
   ]
  },
  {
   "cell_type": "code",
   "execution_count": 49,
   "id": "3d9526a9",
   "metadata": {},
   "outputs": [
    {
     "data": {
      "text/plain": [
       "{'minimum_time_limit': [[1, 3.0],\n",
       "  [1024, 3.0],\n",
       "  [4096, 10.0],\n",
       "  [10000, 40.0],\n",
       "  [30000, 200.0],\n",
       "  [100000, 600.0],\n",
       "  [1000000, 600.0]],\n",
       " 'maximum_time_limit_hrs': 24.0,\n",
       " 'maximum_number_of_variables': 1000000,\n",
       " 'maximum_number_of_biases': 200000000,\n",
       " 'parameters': {'time_limit': 'Maximum requested runtime in seconds.'},\n",
       " 'supported_problem_types': ['bqm'],\n",
       " 'category': 'hybrid',\n",
       " 'version': '2.2',\n",
       " 'quota_conversion_rate': 20}"
      ]
     },
     "execution_count": 49,
     "metadata": {},
     "output_type": "execute_result"
    }
   ],
   "source": [
    "hb_sampler.properties"
   ]
  },
  {
   "cell_type": "code",
   "execution_count": 50,
   "id": "e1db9b88",
   "metadata": {},
   "outputs": [
    {
     "data": {
      "text/plain": [
       "{'time_limit': ['parameters'], 'label': []}"
      ]
     },
     "execution_count": 50,
     "metadata": {},
     "output_type": "execute_result"
    }
   ],
   "source": [
    "hb_sampler.parameters"
   ]
  },
  {
   "cell_type": "code",
   "execution_count": 51,
   "id": "6f739c1e",
   "metadata": {},
   "outputs": [],
   "source": [
    "tl = 20\n",
    "hb_name = f'hb_qubo_{len(asset_prices)}_t{tl}'\n",
    "hb_sample_results = hb_sampler.sample(bqm_102_qb, time_limit=tl, label=hb_name)"
   ]
  },
  {
   "cell_type": "code",
   "execution_count": 52,
   "id": "4b55e1fc",
   "metadata": {},
   "outputs": [
    {
     "name": "stdout",
     "output_type": "stream",
     "text": [
      "  q1 q10 q100 q101 q102 q103 q104 q105 q106 q107 q108 ... q99 energy num_oc.\n",
      "0  0   0    0    0    0    0    0    0    0    0    0 ...   0  73.96       1\n",
      "['BINARY', 1 rows, 1 samples, 140 variables]\n"
     ]
    }
   ],
   "source": [
    "print(hb_sample_results)"
   ]
  },
  {
   "cell_type": "code",
   "execution_count": 53,
   "id": "f4fdaf3d",
   "metadata": {},
   "outputs": [
    {
     "data": {
      "text/plain": [
       "[('q2', 1), ('q3', 1)]"
      ]
     },
     "execution_count": 53,
     "metadata": {},
     "output_type": "execute_result"
    }
   ],
   "source": [
    "qubits = [i for i in hb_sample_results.first]\n",
    "solution = [ (k, qubits[0][k]) for k in qubits[0] if qubits[0][k] !=0 ]\n",
    "solution"
   ]
  }
 ],
 "metadata": {
  "authors": [
   {
    "name": "Rafael Pereira da Silva"
   }
  ],
  "kernelspec": {
   "display_name": "py_quboxpy",
   "language": "python",
   "name": "python3"
  },
  "language_info": {
   "codemirror_mode": {
    "name": "ipython",
    "version": 3
   },
   "file_extension": ".py",
   "mimetype": "text/x-python",
   "name": "python",
   "nbconvert_exporter": "python",
   "pygments_lexer": "ipython3",
   "version": "3.11.6"
  }
 },
 "nbformat": 4,
 "nbformat_minor": 5
}
